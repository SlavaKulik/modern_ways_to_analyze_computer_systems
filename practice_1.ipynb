{
  "nbformat": 4,
  "nbformat_minor": 0,
  "metadata": {
    "colab": {
      "provenance": [],
      "authorship_tag": "ABX9TyOl2/eAimY630GTiE+biJPy",
      "include_colab_link": true
    },
    "kernelspec": {
      "name": "python3",
      "display_name": "Python 3"
    },
    "language_info": {
      "name": "python"
    }
  },
  "cells": [
    {
      "cell_type": "markdown",
      "metadata": {
        "id": "view-in-github",
        "colab_type": "text"
      },
      "source": [
        "<a href=\"https://colab.research.google.com/github/SlavaKulik/modern_ways_to_analyze_computer_systems/blob/main/practice_1.ipynb\" target=\"_parent\"><img src=\"https://colab.research.google.com/assets/colab-badge.svg\" alt=\"Open In Colab\"/></a>"
      ]
    },
    {
      "cell_type": "code",
      "execution_count": 6,
      "metadata": {
        "colab": {
          "base_uri": "https://localhost:8080/"
        },
        "id": "7UeVecMzNjtG",
        "outputId": "3b8ea0b8-64b2-46a7-e03f-7d3fcd3226d3"
      },
      "outputs": [
        {
          "output_type": "stream",
          "name": "stdout",
          "text": [
            "Найкоротша відстань:  103\n",
            "Кращий шлях:  [5 1 4 2 3 0]\n"
          ]
        }
      ],
      "source": [
        "import numpy as np \n",
        "import random as rd \n",
        " \n",
        "def lengthCal(antPath,distmat): \n",
        "    length =[] \n",
        "    dis = 0 \n",
        "    for i in range(len(antPath)): \n",
        "        for j in range(len(antPath[i]) - 1): \n",
        "            dis += distmat[antPath[i][j]][antPath[i][j + 1]] \n",
        "        dis += distmat[antPath[i][-1]][antPath[i][0]] \n",
        "        length.append(dis) \n",
        "        dis = 0 \n",
        "    return length \n",
        "distmat = np.array([[0,62,62,68,26,5],  \n",
        "                    [62,0,23,21,2,2], \n",
        "                    [62,23,0,17,9,29], \n",
        "                    [68,21,17,0,65,58], \n",
        "                    [26,2,9,65,0,51], \n",
        "                    [2,2,29,58,51,0]]) \n",
        " \n",
        "antNum = 6 \n",
        "alpha = 1 \n",
        "beta = 3 \n",
        "pheEvaRate = 0.3 \n",
        "cityNum = distmat.shape[0] \n",
        "pheromone = np.ones((cityNum,cityNum)) \n",
        "heuristic = 1 / (np.eye(cityNum) + distmat) - np.eye(cityNum) \n",
        "iter,itermax = 1,100 \n",
        " \n",
        "while iter < itermax: \n",
        "    antPath = np.zeros((antNum, cityNum)).astype(int) - 1 \n",
        "    firstCity = [i for i in range(6)] \n",
        "    rd.shuffle(firstCity) \n",
        "    unvisted = [] \n",
        "    p = [] \n",
        "    pAccum = 0 \n",
        "    for i in range(len(antPath)): \n",
        "        antPath[i][0] = firstCity[i] \n",
        "    for i in range(len(antPath[0]) - 1):  \n",
        "        for j in range(len(antPath)): \n",
        "            for k in range(cityNum): \n",
        "                if k not in antPath[j]: \n",
        "                    unvisted.append(k) \n",
        "            for m in unvisted: \n",
        "                pAccum += pheromone[antPath[j][i]][m] ** alpha * heuristic[antPath[j][i]][m] ** beta \n",
        "            for n in unvisted: \n",
        "                p.append(pheromone[antPath[j][i]][n] ** alpha * heuristic[antPath[j][i]][n] ** beta / pAccum) \n",
        "            roulette = np.array(p).cumsum() \n",
        "            r = rd.uniform(min(roulette), max(roulette)) \n",
        "            for x in range(len(roulette)): \n",
        "                if roulette[x] >= r:  \n",
        "                    antPath[j][i + 1] = unvisted[x] \n",
        "                    break \n",
        "            unvisted = [] \n",
        "            p = [] \n",
        "            pAccum = 0 \n",
        "    pheromone = (1 - pheEvaRate) * pheromone \n",
        "    length = lengthCal(antPath,distmat) \n",
        "    for i in range(len(antPath)): \n",
        "        for j in range(len(antPath[i]) - 1): \n",
        "            pheromone[antPath[i][j]][antPath[i][j + 1]] += 1 / length[i] \n",
        "        pheromone[antPath[i][-1]][antPath[i][0]] += 1 / length[i]\n",
        "    iter += 1 \n",
        "print('Найкоротша відстань: ', min(length)) \n",
        "print('Кращий шлях: ', antPath[length.index(min(length))])"
      ]
    }
  ]
}